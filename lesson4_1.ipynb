{
 "cells": [
  {
   "cell_type": "code",
   "execution_count": null,
   "metadata": {},
   "outputs": [],
   "source": [
    "#小明想要存錢買一輛機車,機車每輛30000元，他將每月存的錢輸入，當存款足夠買機車時，就顯示提示訊息告知\n",
    "deposit = 0\n",
    "num = 0\n",
    "while(deposit<30000):\n",
    "    num += 1\n",
    "    input_value = int(input(f\"請輸入第{num}月份的存款\"))\n",
    "    deposit += input_value\n",
    "    if (deposit >= 30000):\n",
    "        break\n",
    "\n",
    "print(f\"總共存了{num}個月，總共存了{deposit}\")\n",
    "\n"
   ]
  },
  {
   "cell_type": "code",
   "execution_count": null,
   "metadata": {},
   "outputs": [],
   "source": [
    "#請設計一個程式，讓使用者輸入數值，只有加總正偶數值，不加總正奇數值，如果輸入負數，結束程式。 下午14:20開始\n",
    "num = 0\n",
    "sum = 0\n",
    "while(True):\n",
    "    num += 1\n",
    "    input_num = int(input(f\"請輸入第{num}個數值:\"))\n",
    "    if input_num < 0:\n",
    "        break\n",
    "    elif input_num % 2 == 1:\n",
    "        continue\n",
    "    else:\n",
    "        sum += input_num\n",
    "        \n",
    "print(f\"所有輸入的正偶數加總是:{sum}\")"
   ]
  },
  {
   "cell_type": "code",
   "execution_count": null,
   "metadata": {},
   "outputs": [],
   "source": [
    "#要求使用者輸入一個值，並求其因數\n",
    "\n",
    "num= int(input(\"請輸入一個數值，並求其因數\"))\n",
    "print(f\"{num}的因數是：\")\n",
    "for i in range(1,num+1):\n",
    "    if num % i == 0:\n",
    "        print(i)\n",
    "print(\"=====END=====\")\n"
   ]
  },
  {
   "cell_type": "code",
   "execution_count": null,
   "metadata": {},
   "outputs": [],
   "source": [
    "num = int(input(\"請輸入一個數值,並求其因數:\"))\n",
    "print(f\"{num}的因數是:\")\n",
    "for i in range(1,num+1):\n",
    "    if num % i == 0:\n",
    "        print(i)\n",
    "print(\"===============結束\")"
   ]
  },
  {
   "cell_type": "code",
   "execution_count": null,
   "metadata": {},
   "outputs": [],
   "source": [
    "#自訂一個function 使用def \n",
    "def get_factor():\n",
    "    num= int(input(\"請輸入一個數值，並求其因數\"))\n",
    "    print(f\"{num}的因數是：\")\n",
    "    for i in range(1,num+1):\n",
    "       if num % i == 0:\n",
    "        print(i)\n",
    "    print(\"=====END=====\")\n",
    "\n",
    "get_factor() #此處為呼叫此function使用\n",
    "\n",
    "#當成為function時 可重複呼叫出使用\n",
    "#如 \n",
    "# get_factor() \n",
    "# get_factor()\n",
    "# get_factor()  為重複執行三次\n",
    "\n"
   ]
  },
  {
   "cell_type": "code",
   "execution_count": null,
   "metadata": {},
   "outputs": [],
   "source": [
    "#使用for in range(次數)來代替上面複製貼上三次\n",
    "for i in range(3):\n",
    "    #呼叫function\n",
    "    get_factor() "
   ]
  },
  {
   "cell_type": "code",
   "execution_count": null,
   "metadata": {},
   "outputs": [],
   "source": [
    "#建立一個list 使用[]來建立\n",
    "nums = [46,55,32,67,43]\n",
    "for i in range(5): #因已知list內有五個資料的情況下使用 (而且range後面只能接引數值)\n",
    "    print(nums[i])\n"
   ]
  },
  {
   "cell_type": "code",
   "execution_count": 45,
   "metadata": {},
   "outputs": [
    {
     "name": "stdout",
     "output_type": "stream",
     "text": [
      "46\n",
      "55\n",
      "32\n",
      "67\n",
      "43\n"
     ]
    }
   ],
   "source": [
    "#如不知道list內有多少資料,或資料太多時 可使用，且in後面可以\n",
    "for item in nums:\n",
    "    print(item)"
   ]
  }
 ],
 "metadata": {
  "kernelspec": {
   "display_name": "Python 3",
   "language": "python",
   "name": "python3"
  },
  "language_info": {
   "codemirror_mode": {
    "name": "ipython",
    "version": 3
   },
   "file_extension": ".py",
   "mimetype": "text/x-python",
   "name": "python",
   "nbconvert_exporter": "python",
   "pygments_lexer": "ipython3",
   "version": "3.9.16"
  },
  "orig_nbformat": 4
 },
 "nbformat": 4,
 "nbformat_minor": 2
}
