{
 "cells": [
  {
   "cell_type": "code",
   "execution_count": 7,
   "metadata": {},
   "outputs": [],
   "source": [
    "#自訂一個function 使用def ，使用一個參數 para1=>自定義\n",
    "def get_factor(para1):\n",
    "    print(f\"{para1}的因數是：\")\n",
    "    for i in range(1,para1+1):\n",
    "       if para1 % i == 0:\n",
    "          print(i)\n",
    "    print(\"=====END=====\")"
   ]
  },
  {
   "cell_type": "code",
   "execution_count": 16,
   "metadata": {},
   "outputs": [
    {
     "name": "stdout",
     "output_type": "stream",
     "text": [
      "10的因數是：\n",
      "1\n",
      "2\n",
      "5\n",
      "10\n",
      "=====END=====\n"
     ]
    }
   ],
   "source": [
    "get_factor(10)"
   ]
  },
  {
   "cell_type": "code",
   "execution_count": 15,
   "metadata": {},
   "outputs": [
    {
     "name": "stdout",
     "output_type": "stream",
     "text": [
      "78的因數是：\n",
      "1\n",
      "2\n",
      "3\n",
      "6\n",
      "13\n",
      "26\n",
      "39\n",
      "78\n",
      "=====END=====\n",
      "95的因數是：\n",
      "1\n",
      "5\n",
      "19\n",
      "95\n",
      "=====END=====\n",
      "107的因數是：\n",
      "1\n",
      "107\n",
      "=====END=====\n",
      "45的因數是：\n",
      "1\n",
      "3\n",
      "5\n",
      "9\n",
      "15\n",
      "45\n",
      "=====END=====\n",
      "25的因數是：\n",
      "1\n",
      "5\n",
      "25\n",
      "=====END=====\n"
     ]
    }
   ],
   "source": [
    "nums=[78,95,107,45,25]\n",
    "for num in nums:\n",
    "    get_factor(num)"
   ]
  }
 ],
 "metadata": {
  "kernelspec": {
   "display_name": "Python 3",
   "language": "python",
   "name": "python3"
  },
  "language_info": {
   "codemirror_mode": {
    "name": "ipython",
    "version": 3
   },
   "file_extension": ".py",
   "mimetype": "text/x-python",
   "name": "python",
   "nbconvert_exporter": "python",
   "pygments_lexer": "ipython3",
   "version": "3.9.16"
  },
  "orig_nbformat": 4
 },
 "nbformat": 4,
 "nbformat_minor": 2
}
