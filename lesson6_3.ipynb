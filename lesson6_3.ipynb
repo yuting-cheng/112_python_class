{
 "cells": [
  {
   "cell_type": "code",
   "execution_count": null,
   "metadata": {},
   "outputs": [],
   "source": [
    "import requests\n",
    "url = 'https://data.ntpc.gov.tw/api/datasets/71cd1490-a2df-4198-bef1-318479775e8a/csv?size=100'\n",
    "\n",
    "response = requests.get(url)\n",
    "if response.ok:\n",
    "    print(response.text)"
   ]
  },
  {
   "cell_type": "code",
   "execution_count": null,
   "metadata": {},
   "outputs": [],
   "source": [
    "\n",
    "from io import StringIO\n",
    "import csv\n",
    "file = StringIO(response.text,newline='')\n",
    "csv_reader = csv.DictReader(file)\n",
    "csv_list = list(csv_reader)\n",
    "for item_dict in csv_list:\n",
    "    print(item_dict)"
   ]
  },
  {
   "cell_type": "code",
   "execution_count": null,
   "metadata": {},
   "outputs": [],
   "source": [
    "import pandas as pd\n",
    "df = pd.DataFrame(data=csv_list)\n",
    "df"
   ]
  },
  {
   "cell_type": "code",
   "execution_count": null,
   "metadata": {},
   "outputs": [],
   "source": [
    "import pandas as pd\n",
    "df = pd.DataFrame(data=csv_list)\n",
    "df1 = df.drop(columns=['sareaen','snaen','aren','lat','lng'])\n",
    "df1"
   ]
  },
  {
   "cell_type": "code",
   "execution_count": null,
   "metadata": {},
   "outputs": [],
   "source": [
    "import pandas as pd\n",
    "df = pd.DataFrame(data=csv_list)\n",
    "df1 = df.drop(columns=['sareaen','snaen','aren','lat','lng'])\n",
    "df2 = df1.rename(columns={'\\ufeff\"sno\"':\"編號\",\n",
    "                    'sna':'名稱',\n",
    "                    'tot':'車輛數',\n",
    "                    'sbi':'可借',\n",
    "                    'sarea':'行政區',\n",
    "                    'mday':'日期',\n",
    "                    'ar':'地址',\n",
    "                    'bemp':'可還',\n",
    "                    'act':'狀態'})"
   ]
  },
  {
   "cell_type": "code",
   "execution_count": null,
   "metadata": {},
   "outputs": [],
   "source": [
    "df2"
   ]
  }
 ],
 "metadata": {
  "kernelspec": {
   "display_name": "Python 3",
   "language": "python",
   "name": "python3"
  },
  "language_info": {
   "codemirror_mode": {
    "name": "ipython",
    "version": 3
   },
   "file_extension": ".py",
   "mimetype": "text/x-python",
   "name": "python",
   "nbconvert_exporter": "python",
   "pygments_lexer": "ipython3",
   "version": "3.9.16"
  },
  "orig_nbformat": 4
 },
 "nbformat": 4,
 "nbformat_minor": 2
}
