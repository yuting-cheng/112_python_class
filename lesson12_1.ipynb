{
 "cells": [
  {
   "cell_type": "code",
   "execution_count": null,
   "metadata": {},
   "outputs": [],
   "source": [
    "import pandas as pd\n",
    "codeFrame = pd.read_csv('codeSearch.csv',usecols=['code','name'])\n",
    "codeFrame"
   ]
  },
  {
   "cell_type": "code",
   "execution_count": 5,
   "metadata": {},
   "outputs": [
    {
     "data": {
      "text/plain": [
       "0        1101台泥\n",
       "1        1102亞泥\n",
       "2        1103嘉泥\n",
       "3        1104環泥\n",
       "4        1108幸福\n",
       "         ...   \n",
       "970      9944新麗\n",
       "971     9945潤泰新\n",
       "972    9946三發地產\n",
       "973      9955佳龍\n",
       "974     9958世紀鋼\n",
       "Length: 975, dtype: object"
      ]
     },
     "execution_count": 5,
     "metadata": {},
     "output_type": "execute_result"
    }
   ],
   "source": [
    "codeFrame['code'].astype(str) + codeFrame['name']"
   ]
  }
 ],
 "metadata": {
  "kernelspec": {
   "display_name": "Python 3",
   "language": "python",
   "name": "python3"
  },
  "language_info": {
   "codemirror_mode": {
    "name": "ipython",
    "version": 3
   },
   "file_extension": ".py",
   "mimetype": "text/x-python",
   "name": "python",
   "nbconvert_exporter": "python",
   "pygments_lexer": "ipython3",
   "version": "3.10.11"
  },
  "orig_nbformat": 4
 },
 "nbformat": 4,
 "nbformat_minor": 2
}
